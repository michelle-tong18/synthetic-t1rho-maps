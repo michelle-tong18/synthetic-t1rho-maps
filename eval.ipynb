{
 "cells": [
  {
   "cell_type": "code",
   "execution_count": 8,
   "id": "fffe28b5",
   "metadata": {},
   "outputs": [
    {
     "ename": "ModuleNotFoundError",
     "evalue": "No module named 'scipy'",
     "output_type": "error",
     "traceback": [
      "\u001b[0;31m---------------------------------------------------------------------------\u001b[0m",
      "\u001b[0;31mModuleNotFoundError\u001b[0m                       Traceback (most recent call last)",
      "\u001b[0;32m<ipython-input-8-850dd6beded7>\u001b[0m in \u001b[0;36m<module>\u001b[0;34m\u001b[0m\n\u001b[1;32m     13\u001b[0m \u001b[0;31m#import utils\u001b[0m\u001b[0;34m\u001b[0m\u001b[0;34m\u001b[0m\u001b[0;34m\u001b[0m\u001b[0m\n\u001b[1;32m     14\u001b[0m \u001b[0;31m#import metrics\u001b[0m\u001b[0;34m\u001b[0m\u001b[0;34m\u001b[0m\u001b[0;34m\u001b[0m\u001b[0m\n\u001b[0;32m---> 15\u001b[0;31m \u001b[0;32mimport\u001b[0m \u001b[0mdatasets\u001b[0m\u001b[0;34m\u001b[0m\u001b[0;34m\u001b[0m\u001b[0m\n\u001b[0m\u001b[1;32m     16\u001b[0m \u001b[0;32mimport\u001b[0m \u001b[0mevaluate\u001b[0m\u001b[0;34m\u001b[0m\u001b[0;34m\u001b[0m\u001b[0m\n\u001b[1;32m     17\u001b[0m \u001b[0;31m#import plots\u001b[0m\u001b[0;34m\u001b[0m\u001b[0;34m\u001b[0m\u001b[0;34m\u001b[0m\u001b[0m\n",
      "\u001b[0;32m/data/knee_mri9/mwtong/t1rho_map_synthesis/code/code_py/src/datasets.py\u001b[0m in \u001b[0;36m<module>\u001b[0;34m\u001b[0m\n\u001b[1;32m      1\u001b[0m \u001b[0;32mimport\u001b[0m \u001b[0mnumpy\u001b[0m \u001b[0;32mas\u001b[0m \u001b[0mnp\u001b[0m\u001b[0;34m\u001b[0m\u001b[0;34m\u001b[0m\u001b[0m\n\u001b[0;32m----> 2\u001b[0;31m \u001b[0;32mfrom\u001b[0m \u001b[0mscipy\u001b[0m\u001b[0;34m.\u001b[0m\u001b[0mio\u001b[0m \u001b[0;32mimport\u001b[0m \u001b[0mloadmat\u001b[0m\u001b[0;34m\u001b[0m\u001b[0;34m\u001b[0m\u001b[0m\n\u001b[0m\u001b[1;32m      3\u001b[0m \u001b[0;32mimport\u001b[0m \u001b[0mh5py\u001b[0m\u001b[0;34m\u001b[0m\u001b[0;34m\u001b[0m\u001b[0m\n\u001b[1;32m      4\u001b[0m \u001b[0;32mimport\u001b[0m \u001b[0mtorch\u001b[0m\u001b[0;34m\u001b[0m\u001b[0;34m\u001b[0m\u001b[0m\n\u001b[1;32m      5\u001b[0m \u001b[0;32mfrom\u001b[0m \u001b[0mtorch\u001b[0m\u001b[0;34m.\u001b[0m\u001b[0mutils\u001b[0m\u001b[0;34m.\u001b[0m\u001b[0mdata\u001b[0m \u001b[0;32mimport\u001b[0m \u001b[0mDataset\u001b[0m\u001b[0;34m,\u001b[0m \u001b[0mDataLoader\u001b[0m\u001b[0;34m\u001b[0m\u001b[0;34m\u001b[0m\u001b[0m\n",
      "\u001b[0;31mModuleNotFoundError\u001b[0m: No module named 'scipy'"
     ]
    }
   ],
   "source": [
    "#load all desired packages\n",
    "import sys\n",
    "import pandas as pd\n",
    "import numpy as np\n",
    "#import random\n",
    "#import time\n",
    "#import torch\n",
    "\n",
    "import os, sys\n",
    "directory = os.path.abspath('')\n",
    "sys.path.insert(1,os.path.join(directory,'src')) # setting path can also append directory.parent\n",
    "\n",
    "#import utils\n",
    "#import metrics\n",
    "import datasets\n",
    "import evaluate\n",
    "#import plots\n",
    "#import train\n",
    "#from UNet import UNet\n",
    "\n",
    "if not sys.warnoptions:\n",
    "    import warnings\n",
    "    warnings.simplefilter(\"ignore\")\n",
    "    \n",
    "%load_ext autoreload\n",
    "%autoreload 2\n",
    "%matplotlib inline"
   ]
  },
  {
   "cell_type": "code",
   "execution_count": null,
   "id": "bbbfe9ee",
   "metadata": {},
   "outputs": [],
   "source": []
  },
  {
   "cell_type": "code",
   "execution_count": null,
   "id": "a3b7b497",
   "metadata": {},
   "outputs": [],
   "source": [
    "#set training and validation batch sizes, other training parameters, and path to labels\n",
    "\n",
    "# automatically updates params\n",
    "code_path = '/data/knee_mri9/mwtong/t1rho_map_synthesis/Code'\n",
    "log_save_dir   = code_path+'/train_logs/'\n",
    "model_save_dir = code_path+'/checkpoints/'\n",
    "model_info_file= '/data/knee_mri9/mwtong/t1rho_map_synthesis/training/trained_model_info.csv'\n",
    "\n",
    "#Load the csv with all your trained models\n",
    "df_modelInfo = pd.read_csv(model_info_file)\n",
    "\n",
    "df_modelInfo"
   ]
  },
  {
   "cell_type": "code",
   "execution_count": null,
   "id": "66fa6cd3",
   "metadata": {},
   "outputs": [],
   "source": [
    "ref_num = 1031\n",
    "subset = 'test'\n",
    "scaleMetrics_options = ['clip',0,100]\n",
    "row_idx = np.where(df_modelInfo['Ref']==float(ref_num))[0][0]\n",
    "preds,labels,images,testset = evaluate.get_model_preds(row_idx,df_modelInfo,subset)\n",
    "\n",
    "# Get patient info so we can calculate metric per volume\n",
    "row_idx = np.where(df_modelInfo['Ref']==float(ref_num))[0][0]\n",
    "split_path = df_modelInfo['Split_Path'][row_idx]\n",
    "label_df = pd.read_csv(split_path)\n",
    "if subset == 'test':\n",
    "    test_df = label_df.loc[label_df.set == 2, :]\n",
    "elif subset == 'val':\n",
    "    test_df = label_df.loc[label_df.set == 1, :]\n",
    "elif subset == 'new_distribution':\n",
    "    test_df = label_df.loc[label_df.set == -1, :]\n",
    "elif subset == 'bilateral_knee':\n",
    "    test_df = label_df.loc[label_df.set == -2, :]\n",
    "    \n",
    "df_patientInfo= evaluate.get_scan_info(test_df)\n",
    "len(test_df)"
   ]
  },
  {
   "cell_type": "code",
   "execution_count": null,
   "id": "302b3af3",
   "metadata": {},
   "outputs": [],
   "source": [
    "subset = 'bilateral_knee'\n",
    "fname_slice_metrics = code_path+'/04_eval/'+subset+'_metrics/run'+str(ref_num)+'_slice_metrics.csv'\n",
    "fname_vol_metrics = code_path+'/04_eval/'+subset+'_metrics/run'+str(ref_num)+'_vol_metrics.csv'\n",
    "fname_vol_BA = code_path+'/04_eval/'+subset+'_metrics/run'+str(ref_num)+'_BA_vol_'+subset+'.png'\n",
    "fname_vol_corr = code_path+'/04_eval/'+subset+'_metrics/run'+str(ref_num)+'_corr_vol_'+subset+'.png'\n",
    "fname_slice_BA = code_path+'/04_eval/'+subset+'_metrics/run'+str(ref_num)+'_BA_slice_'+subset+'.png'\n",
    "fname_slice_corr = code_path+'/04_eval/'+subset+'_metrics/run'+str(ref_num)+'_corr_slice_'+subset+'.png'\n",
    "\n",
    "if (os.path.exists(fname_slice_metrics) and os.path.exists(fname_vol_metrics)):\n",
    "    print('note: loading existing metric files')\n",
    "    df_metrics_slice = pd.read_csv(fname_slice_metrics)\n",
    "    df_metrics_slice['mean_pred']        =[list(eval(df_metrics_slice['mean_pred'][ii].replace(\" \",\"\")[1:-1])) for ii in range(len(df_metrics_slice))]\n",
    "    df_metrics_slice['mean_targ']        =[list(eval(df_metrics_slice['mean_targ'][ii].replace(\" \",\"\")[1:-1])) for ii in range(len(df_metrics_slice))]\n",
    "    df_metrics_slice['median_pred_targ'] =[list(eval(df_metrics_slice['median_pred_targ'][ii].replace(\" \",\"\")[1:-1])) for ii in range(len(df_metrics_slice))]\n",
    "\n",
    "    df_metrics_vol = pd.read_csv(fname_vol_metrics)\n",
    "    df_metrics_vol['mean_pred']        =[list(eval(df_metrics_vol['mean_pred'][ii].replace(\" \",\"\")[1:-1])) for ii in range(len(df_metrics_vol))]\n",
    "    df_metrics_vol['mean_targ']        =[list(eval(df_metrics_vol['mean_targ'][ii].replace(\" \",\"\")[1:-1])) for ii in range(len(df_metrics_vol))]\n",
    "    df_metrics_vol['median_pred_targ'] =[list(eval(df_metrics_vol['median_pred_targ'][ii].replace(\" \",\"\")[1:-1])) for ii in range(len(df_metrics_vol))]\n",
    "\n",
    "else:\n",
    "    df_metrics_slice,df_metrics_vol = evaluate.get_model_stats(preds,labels,images,scaleMetrics_options,df_patientInfo)\n",
    "\n",
    "    # Save a summary of metrics in .../eval/run_metrics\n",
    "    df_test_metric = pd.concat([test_df.reset_index(drop=False),df_metrics_slice],axis=1)\n",
    "    df_test_metric.to_csv(code_path+'/04_eval/'+subset+'_metrics/run'+str(ref_num)+'_slice_metrics.csv')\n",
    "    df_test_metric = pd.concat([df_patientInfo.reset_index(drop=False),df_metrics_vol],axis=1)\n",
    "    df_test_metric.to_csv(code_path+'/04_eval/'+subset+'_metrics/run'+str(ref_num)+'_vol_metrics.csv')\n"
   ]
  },
  {
   "cell_type": "code",
   "execution_count": null,
   "id": "81d8981c",
   "metadata": {},
   "outputs": [],
   "source": []
  },
  {
   "cell_type": "code",
   "execution_count": null,
   "id": "a3d35c0a",
   "metadata": {},
   "outputs": [],
   "source": []
  },
  {
   "cell_type": "code",
   "execution_count": null,
   "id": "ce046f42",
   "metadata": {},
   "outputs": [],
   "source": []
  },
  {
   "cell_type": "code",
   "execution_count": null,
   "id": "2fa8dab9",
   "metadata": {},
   "outputs": [],
   "source": []
  }
 ],
 "metadata": {
  "kernelspec": {
   "display_name": "Python 3",
   "language": "python",
   "name": "python3"
  },
  "language_info": {
   "codemirror_mode": {
    "name": "ipython",
    "version": 3
   },
   "file_extension": ".py",
   "mimetype": "text/x-python",
   "name": "python",
   "nbconvert_exporter": "python",
   "pygments_lexer": "ipython3",
   "version": "3.6.8"
  }
 },
 "nbformat": 4,
 "nbformat_minor": 5
}
